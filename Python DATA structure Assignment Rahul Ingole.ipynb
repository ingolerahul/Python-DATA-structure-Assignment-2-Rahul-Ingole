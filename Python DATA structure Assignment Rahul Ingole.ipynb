{
 "cells": [
  {
   "cell_type": "markdown",
   "id": "9645df89-2127-44b8-ab70-bda098c1df16",
   "metadata": {},
   "source": [
    "Q1. How do you comment code in Python? What are the different types of comments?\n"
   ]
  },
  {
   "cell_type": "markdown",
   "id": "f9ef90eb-ab35-4665-a322-72db7fb1e002",
   "metadata": {},
   "source": [
    "Ans : In Python if line is intiate with the '#' it identify as comment, multilines are seperated with the - 'Dash', \n",
    "dockstring also use as a  comment but technically its string which is triple-quoted strings (either ''' or \"\"\")."
   ]
  },
  {
   "cell_type": "markdown",
   "id": "fac1f91f-8c2f-470c-a04d-4c421f059919",
   "metadata": {},
   "source": [
    "Q2. What are variables in Python? How do you declare and assign values to variables?\n",
    "Ans : In Python a variable serves as a reference to a value stored in memory.it helps to assign a value to a name using the equals sign ="
   ]
  },
  {
   "cell_type": "markdown",
   "id": "13e335f6-a268-49ac-ad5f-6c7d29510763",
   "metadata": {},
   "source": [
    "Ans : a = c+d  \n",
    "names = \"rahul\", \"sana\", \"Neil\" \n",
    "A, B, C = (11,12, 13)\n",
    "simply Variable name = value "
   ]
  },
  {
   "cell_type": "markdown",
   "id": "3d3bfbf1-985e-4955-b04c-fa61370b47a7",
   "metadata": {},
   "source": [
    "Q3. How do you convert one data type to another in Python?"
   ]
  },
  {
   "cell_type": "markdown",
   "id": "dab5e766-415f-4620-b68d-05eef645c476",
   "metadata": {},
   "source": [
    "Ans : To convert one data type to another using built-in functions or specific methods.\n",
    "Examples : if x = 2 then we can convert 2 as string y = str(x)\n",
    "if x = 2 then here we can convert 2 as float y = float (x)\n",
    "if x = 2.4 then here we can convert 2.5 as string y = str(x)\n",
    "if x = \"rhaul\" then here we can convert \"rahul\" as LIST y = list (x)"
   ]
  },
  {
   "cell_type": "markdown",
   "id": "91202563-5785-4491-b383-b53b83f8c5c9",
   "metadata": {},
   "source": [
    "Q4. How do you write and execute a Python script from the command line?"
   ]
  },
  {
   "cell_type": "markdown",
   "id": "b23f72aa-59f5-47cb-86fa-9db837c5b813",
   "metadata": {},
   "source": [
    "Ans : first we need to installed python, after that open command promt & Navigate to the directory where you saved your script using the 'cd' command.\n",
    " navigate to the directory where you saved your script using the 'cd' command.write script like python_rahul_first_command. python\n",
    "and run the script."
   ]
  },
  {
   "cell_type": "markdown",
   "id": "e0de37b6-1b9b-43c5-b020-384aa2de72c4",
   "metadata": {},
   "source": [
    "Q5. Given a list my_list = [1, 2, 3, 4, 5], write the code to slice the list and obtain the sub-list [2, 3]."
   ]
  },
  {
   "cell_type": "code",
   "execution_count": 4,
   "id": "4ae7ce11-21b3-4fa7-933e-bacd9a8cbf29",
   "metadata": {},
   "outputs": [
    {
     "data": {
      "text/plain": [
       "[2, 3]"
      ]
     },
     "execution_count": 4,
     "metadata": {},
     "output_type": "execute_result"
    }
   ],
   "source": [
    "#Ans:\n",
    "\n",
    "my_list = [1,2,3,4,5]\n",
    "my_list[1:3]"
   ]
  },
  {
   "cell_type": "markdown",
   "id": "5932292f-bd1d-41c3-b09d-b287ac399c51",
   "metadata": {},
   "source": [
    " Q6. What is a complex number in mathematics, and how is it represented in Python?"
   ]
  },
  {
   "cell_type": "code",
   "execution_count": 5,
   "id": "e0ba489f-1a26-4a4d-a9aa-56655200de3d",
   "metadata": {},
   "outputs": [],
   "source": [
    "# Ans : Complex no. in Mathematics is combination aof Real and imaginary no.\n",
    "x = 3+5j\n",
    "# Here 5j is complex no. in python"
   ]
  },
  {
   "cell_type": "markdown",
   "id": "4adf450d-f05f-4ae0-9583-98528b44a0c1",
   "metadata": {},
   "source": [
    "Q7. What is the correct way to declare a variable named age and assign the value 25 to it?"
   ]
  },
  {
   "cell_type": "code",
   "execution_count": 6,
   "id": "f7d8ca81-f679-485c-a7c3-8a5228cb2c58",
   "metadata": {},
   "outputs": [],
   "source": [
    "#ANS :\n",
    "a = 25 \n",
    "#so here 'a' is variable , '=' is used to assigned and '25' is vaule to assign with 'a'"
   ]
  },
  {
   "cell_type": "markdown",
   "id": "bb7deb16-7c8e-47d2-bb5a-e012648c0c37",
   "metadata": {},
   "source": [
    "Q8. Declare a variable named price and assign the value 9.99 to it. What data type does this variable\n",
    "belong to?"
   ]
  },
  {
   "cell_type": "code",
   "execution_count": 8,
   "id": "df220e23-c689-45fd-87d4-3c1e8a9343d3",
   "metadata": {},
   "outputs": [
    {
     "data": {
      "text/plain": [
       "float"
      ]
     },
     "execution_count": 8,
     "metadata": {},
     "output_type": "execute_result"
    }
   ],
   "source": [
    "# ANS :\n",
    "price = 9.99\n",
    "type(price)\n",
    "# so out put shows \"float\""
   ]
  },
  {
   "cell_type": "markdown",
   "id": "0da44e76-ba4b-4fb2-9d17-03c0ee806d37",
   "metadata": {},
   "source": [
    "Q9. Create a variable named name and assign your full name to it as a string. How would you print the\n",
    "value of this variable?"
   ]
  },
  {
   "cell_type": "code",
   "execution_count": 9,
   "id": "c27734ab-03a6-441a-97c4-8a65382a7bfe",
   "metadata": {},
   "outputs": [
    {
     "name": "stdout",
     "output_type": "stream",
     "text": [
      "rahul ingole\n"
     ]
    }
   ],
   "source": [
    "# ANS :\n",
    "name = \"rahul ingole\"\n",
    "print (name)"
   ]
  },
  {
   "cell_type": "markdown",
   "id": "69bad333-7921-4ac8-9dea-60ce7a064196",
   "metadata": {},
   "source": [
    "Q10. Given the string \"Hello, World!\", extract the substring \"World\".\n"
   ]
  },
  {
   "cell_type": "code",
   "execution_count": 10,
   "id": "3ecded7d-6e3e-46e6-8707-9cc09e6467bd",
   "metadata": {},
   "outputs": [
    {
     "data": {
      "text/plain": [
       "' World'"
      ]
     },
     "execution_count": 10,
     "metadata": {},
     "output_type": "execute_result"
    }
   ],
   "source": [
    "#ANS: Here we can extract the substring \"world\" by slicing the object.\n",
    "x = \"Hello, World\"\n",
    "x[6:12]"
   ]
  },
  {
   "cell_type": "markdown",
   "id": "b5fd6140-6ede-4a53-b1c3-e72676f7c855",
   "metadata": {},
   "source": [
    "Q11. Create a variable named \"is_student\" and assign it a boolean value indicating whether you are\n",
    "currently a student or not."
   ]
  },
  {
   "cell_type": "code",
   "execution_count": 11,
   "id": "e7a61227-560b-45ad-84a3-29aed946e581",
   "metadata": {},
   "outputs": [],
   "source": [
    "# ANS \n",
    "# If currently a student, set is_student to True. If not a student, set is_student to False.\n",
    "is_student = True\n",
    "is_student = False\n"
   ]
  },
  {
   "cell_type": "code",
   "execution_count": null,
   "id": "496d18eb-7321-4e99-a12b-5759ac147f86",
   "metadata": {},
   "outputs": [],
   "source": []
  }
 ],
 "metadata": {
  "kernelspec": {
   "display_name": "Python 3 (ipykernel)",
   "language": "python",
   "name": "python3"
  },
  "language_info": {
   "codemirror_mode": {
    "name": "ipython",
    "version": 3
   },
   "file_extension": ".py",
   "mimetype": "text/x-python",
   "name": "python",
   "nbconvert_exporter": "python",
   "pygments_lexer": "ipython3",
   "version": "3.10.8"
  }
 },
 "nbformat": 4,
 "nbformat_minor": 5
}
